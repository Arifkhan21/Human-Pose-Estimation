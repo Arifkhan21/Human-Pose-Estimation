{
 "cells": [
  {
   "cell_type": "code",
   "execution_count": 1,
   "metadata": {},
   "outputs": [],
   "source": [
    "import scipy.io as sio\n",
    "import numpy as np"
   ]
  },
  {
   "cell_type": "code",
   "execution_count": 2,
   "metadata": {},
   "outputs": [],
   "source": [
    "mat = sio.loadmat('./mpii_human_pose_v1_u12_1.mat', struct_as_record=False)\n"
   ]
  },
  {
   "cell_type": "code",
   "execution_count": 5,
   "metadata": {},
   "outputs": [
    {
     "data": {
      "text/plain": [
       "array([[<scipy.io.matlab.mio5_params.mat_struct object at 0x7f4cfdd2a910>]],\n",
       "      dtype=object)"
      ]
     },
     "execution_count": 5,
     "metadata": {},
     "output_type": "execute_result"
    }
   ],
   "source": [
    "rel = mat['RELEASE']\n",
    "rel"
   ]
  },
  {
   "cell_type": "code",
   "execution_count": 6,
   "metadata": {},
   "outputs": [
    {
     "name": "stdout",
     "output_type": "stream",
     "text": [
      "['annolist', 'img_train', 'version', 'single_person', 'act', 'video_list']\n"
     ]
    }
   ],
   "source": [
    "object1 = rel[0,0]\n",
    "print(object1._fieldnames)\n"
   ]
  },
  {
   "cell_type": "code",
   "execution_count": 7,
   "metadata": {},
   "outputs": [
    {
     "name": "stdout",
     "output_type": "stream",
     "text": [
      "(array([[0, 0, 0, ..., 1, 0, 0]], dtype=uint8), <type 'numpy.ndarray'>, (1, 24987))\n"
     ]
    }
   ],
   "source": [
    "annolist = object1.__dict__['annolist']\n",
    "train = object1.__dict__[' img_train']\n",
    "# print(annolist,type(annolist),annolist.shape)\n",
    "print(train,type(train),train.shape)"
   ]
  },
  {
   "cell_type": "code",
   "execution_count": 165,
   "metadata": {},
   "outputs": [
    {
     "name": "stdout",
     "output_type": "stream",
     "text": [
      "['image', 'annorect', 'frame_sec', 'vididx']\n"
     ]
    }
   ],
   "source": [
    "anno1 = annolist[0,1367]\n",
    "print(anno1._fieldnames)"
   ]
  },
  {
   "cell_type": "code",
   "execution_count": 166,
   "metadata": {},
   "outputs": [],
   "source": [
    "annorect = anno1.__dict__['annorect']\n",
    "image = anno1.__dict__['image']"
   ]
  },
  {
   "cell_type": "code",
   "execution_count": 167,
   "metadata": {},
   "outputs": [
    {
     "name": "stdout",
     "output_type": "stream",
     "text": [
      "(array([[<scipy.io.matlab.mio5_params.mat_struct object at 0x7f4cfb824950>]],\n",
      "      dtype=object), <type 'numpy.ndarray'>, (1, 1))\n",
      "(1, 1)\n"
     ]
    }
   ],
   "source": [
    "print(image,type(image), image.shape)\n",
    "print(annorect.shape)\n",
    "# print(abj._fieldnames)\n"
   ]
  },
  {
   "cell_type": "code",
   "execution_count": 169,
   "metadata": {},
   "outputs": [
    {
     "name": "stdout",
     "output_type": "stream",
     "text": [
      "['x1', 'y1', 'x2', 'y2']\n"
     ]
    }
   ],
   "source": [
    "abj = annorect[0,0]\n",
    "print(abj._fieldnames)\n",
    "if 'annopoints' in abj._fieldnames:\n",
    "    print('shit')\n",
    "# po = abj.__dict__['annopoints']\n",
    "# poo = po[0,0]\n",
    "# print(poo._fieldnames)\n",
    "# point = poo.__dict__['point']\n",
    "# poin = point[0,8]\n",
    "# print(poin._fieldnames)\n",
    "# iid = poin.__dict__['id']\n",
    "# print(iid)\n",
    "# dic = poo.__dict__['point']\n",
    "# dico = dic[0,3]\n",
    "# # print(dico._fieldnames)\n",
    "# # print(dic.shape)\n",
    "# vis =dico.__dict__['is_visible']\n",
    "# # print(poiint[0][0])\n",
    "# # print(vis[0])\n",
    "# sc = abj.__dict__['scale']\n",
    "# print(sc[0][0])"
   ]
  },
  {
   "cell_type": "code",
   "execution_count": 45,
   "metadata": {},
   "outputs": [
    {
     "name": "stdout",
     "output_type": "stream",
     "text": [
      "[u'059865848.jpg']\n"
     ]
    }
   ],
   "source": [
    "im = image[0,0]\n",
    "print(im.__dict__['name'])"
   ]
  },
  {
   "cell_type": "code",
   "execution_count": 61,
   "metadata": {},
   "outputs": [],
   "source": [
    "arr = np.array(train)"
   ]
  },
  {
   "cell_type": "code",
   "execution_count": 65,
   "metadata": {},
   "outputs": [],
   "source": [
    "sum = np.sum(arr)"
   ]
  },
  {
   "cell_type": "code",
   "execution_count": 68,
   "metadata": {},
   "outputs": [],
   "source": [
    "n= arr.shape[1]"
   ]
  },
  {
   "cell_type": "code",
   "execution_count": 76,
   "metadata": {},
   "outputs": [
    {
     "name": "stdout",
     "output_type": "stream",
     "text": [
      "['x1', 'y1', 'x2', 'y2', 'annopoints', 'scale', 'objpos']\n",
      "['x1', 'y1', 'x2', 'y2', 'annopoints', 'scale', 'objpos']\n",
      "['x1', 'y1', 'x2', 'y2', 'annopoints', 'scale', 'objpos']\n",
      "['x1', 'y1', 'x2', 'y2', 'annopoints', 'scale', 'objpos']\n",
      "['x1', 'y1', 'x2', 'y2', 'annopoints', 'scale', 'objpos']\n",
      "['x1', 'y1', 'x2', 'y2', 'annopoints', 'scale', 'objpos']\n",
      "['x1', 'y1', 'x2', 'y2', 'annopoints', 'scale', 'objpos']\n",
      "['x1', 'y1', 'x2', 'y2', 'annopoints', 'scale', 'objpos']\n",
      "['x1', 'y1', 'x2', 'y2', 'annopoints', 'scale', 'objpos']\n",
      "['x1', 'y1', 'x2', 'y2', 'annopoints', 'scale', 'objpos']\n"
     ]
    }
   ],
   "source": [
    "cnt =10\n",
    "for i in range(0,n):\n",
    "    if arr[0,i] == 1 and cnt!=0:\n",
    "        anno1 = annolist[0,i]\n",
    "        annorect = anno1.__dict__['annorect']\n",
    "        abj = annorect[0,0]\n",
    "        print(abj._fieldnames)\n",
    "        cnt=cnt-1"
   ]
  },
  {
   "cell_type": "code",
   "execution_count": 77,
   "metadata": {},
   "outputs": [],
   "source": [
    "act = object1.__dict__['act']\n"
   ]
  },
  {
   "cell_type": "code",
   "execution_count": 78,
   "metadata": {},
   "outputs": [
    {
     "name": "stdout",
     "output_type": "stream",
     "text": [
      "(array([[<scipy.io.matlab.mio5_params.mat_struct object at 0x7fe93e46ed50>],\n",
      "       [<scipy.io.matlab.mio5_params.mat_struct object at 0x7fe93e46eed0>],\n",
      "       [<scipy.io.matlab.mio5_params.mat_struct object at 0x7fe93e46ef50>],\n",
      "       ...,\n",
      "       [<scipy.io.matlab.mio5_params.mat_struct object at 0x7fe93c003810>],\n",
      "       [<scipy.io.matlab.mio5_params.mat_struct object at 0x7fe93c003850>],\n",
      "       [<scipy.io.matlab.mio5_params.mat_struct object at 0x7fe93c003890>]],\n",
      "      dtype=object), <type 'numpy.ndarray'>, (24987, 1))\n"
     ]
    }
   ],
   "source": [
    "print(act,type(act),act.shape)"
   ]
  },
  {
   "cell_type": "code",
   "execution_count": 171,
   "metadata": {},
   "outputs": [
    {
     "data": {
      "text/plain": [
       "<scipy.io.matlab.mio5_params.mat_struct at 0x7f4cd0cd4250>"
      ]
     },
     "execution_count": 171,
     "metadata": {},
     "output_type": "execute_result"
    }
   ],
   "source": [
    "acti = act[10,0]\n",
    "acti"
   ]
  },
  {
   "cell_type": "code",
   "execution_count": 77,
   "metadata": {},
   "outputs": [
    {
     "name": "stdout",
     "output_type": "stream",
     "text": [
      "0\n",
      "1\n",
      "2\n",
      "3\n",
      "4\n",
      "5\n",
      "6\n",
      "7\n",
      "8\n",
      "9\n"
     ]
    }
   ],
   "source": [
    "for i in range(0,10):\n",
    "    print(i)"
   ]
  },
  {
   "cell_type": "code",
   "execution_count": 92,
   "metadata": {},
   "outputs": [],
   "source": [
    "act = object1.__dict__['act']\n"
   ]
  },
  {
   "cell_type": "code",
   "execution_count": 118,
   "metadata": {},
   "outputs": [],
   "source": [
    "act_ob = act[10,0]\n",
    "ar = act_ob.act_name"
   ]
  },
  {
   "cell_type": "code",
   "execution_count": 172,
   "metadata": {},
   "outputs": [
    {
     "data": {
      "text/plain": [
       "(1,)"
      ]
     },
     "execution_count": 172,
     "metadata": {},
     "output_type": "execute_result"
    }
   ],
   "source": [
    "ar.shape"
   ]
  },
  {
   "cell_type": "code",
   "execution_count": 113,
   "metadata": {},
   "outputs": [
    {
     "name": "stdout",
     "output_type": "stream",
     "text": [
      "eah\n"
     ]
    }
   ],
   "source": []
  },
  {
   "cell_type": "code",
   "execution_count": null,
   "metadata": {},
   "outputs": [],
   "source": []
  }
 ],
 "metadata": {
  "kernelspec": {
   "display_name": "Python 3",
   "language": "python",
   "name": "python3"
  },
  "language_info": {
   "codemirror_mode": {
    "name": "ipython",
    "version": 2
   },
   "file_extension": ".py",
   "mimetype": "text/x-python",
   "name": "python",
   "nbconvert_exporter": "python",
   "pygments_lexer": "ipython2",
   "version": "2.7.12"
  }
 },
 "nbformat": 4,
 "nbformat_minor": 2
}
